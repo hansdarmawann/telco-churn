{
 "cells": [
  {
   "cell_type": "markdown",
   "metadata": {},
   "source": [
    "<h1 style=\"text-align: center;\">[Your Project Title]</h1>\n",
    "<h3 style=\"text-align: center;\">[Your Name]</h3>\n",
    "\n",
    "---"
   ]
  },
  {
   "cell_type": "markdown",
   "metadata": {},
   "source": [
    "## **Section 1. Business Understanding**"
   ]
  },
  {
   "cell_type": "markdown",
   "metadata": {},
   "source": [
    "### **1.1 Context**"
   ]
  },
  {
   "cell_type": "markdown",
   "metadata": {
    "vscode": {
     "languageId": "plaintext"
    }
   },
   "source": [
    "The dataset contains customer information from a telecom company including demographics, services subscribed, account information, and churn status. The business context is to predict customer churn to enable targeted retention strategies."
   ]
  },
  {
   "cell_type": "markdown",
   "metadata": {},
   "source": [
    "### **1.2 Problem Statements**"
   ]
  },
  {
   "cell_type": "markdown",
   "metadata": {
    "vscode": {
     "languageId": "plaintext"
    }
   },
   "source": [
    "- Which customers are likely to churn?\n",
    "- What factors influence customer churn the most?\n",
    "- How can the company reduce churn and improve customer retention?"
   ]
  },
  {
   "cell_type": "markdown",
   "metadata": {},
   "source": [
    "### **1.3 Goals**"
   ]
  },
  {
   "cell_type": "markdown",
   "metadata": {
    "vscode": {
     "languageId": "plaintext"
    }
   },
   "source": [
    "- Develop a predictive model to classify customers as churn or no churn.\n",
    "- Identify key features affecting churn.\n",
    "- Provide actionable insights for business to reduce churn."
   ]
  },
  {
   "cell_type": "markdown",
   "metadata": {},
   "source": [
    "### **1.4 Analytical Approach**"
   ]
  },
  {
   "cell_type": "markdown",
   "metadata": {
    "vscode": {
     "languageId": "plaintext"
    }
   },
   "source": [
    "- Use supervised machine learning classification techniques.\n",
    "- Data preprocessing including cleaning, feature engineering.\n",
    "- Model development with benchmarking, tuning, and evaluation.\n",
    "- Model explanation using feature importance and SHAP values."
   ]
  },
  {
   "cell_type": "markdown",
   "metadata": {},
   "source": [
    "### **1.5 Metric Evaluation (Business Metric, Machine Learning Evaluation Metric)**"
   ]
  },
  {
   "cell_type": "markdown",
   "metadata": {
    "vscode": {
     "languageId": "plaintext"
    }
   },
   "source": [
    "- Business Metric: Reduction in churn rate.\n",
    "- Machine Learning Evaluation Metric: Accuracy, Precision, Recall, F1-score, ROC-AUC."
   ]
  },
  {
   "cell_type": "markdown",
   "metadata": {},
   "source": [
    "### **1.6 Success Criteria**"
   ]
  },
  {
   "cell_type": "markdown",
   "metadata": {
    "vscode": {
     "languageId": "plaintext"
    }
   },
   "source": [
    "- Achieve high classification performance (e.g., ROC-AUC > 0.80).\n",
    "- Provide interpretable insights for business decisions.\n",
    "- Demonstrate model effectiveness on unseen data."
   ]
  },
  {
   "cell_type": "markdown",
   "metadata": {},
   "source": [
    "## **Section 2. Data Understanding**"
   ]
  },
  {
   "cell_type": "markdown",
   "metadata": {},
   "source": [
    "### **2.1 General Information**"
   ]
  },
  {
   "cell_type": "markdown",
   "metadata": {
    "vscode": {
     "languageId": "plaintext"
    }
   },
   "source": [
    "- Dataset contains customer records with attributes related to demographics, services, contracts, billing, and churn.\n",
    "- Target variable: Churn (Yes/No)."
   ]
  },
  {
   "cell_type": "markdown",
   "metadata": {},
   "source": [
    "### **2.2 Feature Information**"
   ]
  },
  {
   "cell_type": "markdown",
   "metadata": {},
   "source": [
    "| Feature            | Description                                      | Impact to Business                                         |\n",
    "|--------------------|------------------------------------------------|------------------------------------------------------------|\n",
    "| customerID         | Unique customer identifier                       | Identification, no direct impact                            |\n",
    "| gender             | Customer gender (Male, Female)                   | Possible demographic influence                              |\n",
    "| SeniorCitizen      | Whether the customer is a senior citizen (0,1)  | May affect churn due to different needs                    |\n",
    "| Partner            | Whether customer has a partner (Yes, No)        | Social factors influencing churn                            |\n",
    "| Dependents         | Whether customer has dependents (Yes, No)       | Social factors influencing churn                            |\n",
    "| tenure             | Number of months customer has stayed             | Longer tenure usually means lower churn                     |\n",
    "| PhoneService       | Whether customer has phone service (Yes, No)    | Service usage influence                                     |\n",
    "| MultipleLines      | Whether customer has multiple lines (Yes, No, No phone service) | Service usage influence                                     |\n",
    "| InternetService    | Type of internet service (DSL, Fiber optic, No) | Service type impact on churn                                |\n",
    "| OnlineSecurity     | Whether customer has online security (Yes, No, No internet service) | Service feature impact                                      |\n",
    "| OnlineBackup       | Whether customer has online backup (Yes, No, No internet service) | Service feature impact                                      |\n",
    "| DeviceProtection   | Whether customer has device protection (Yes, No, No internet service) | Service feature impact                                      |\n",
    "| TechSupport        | Whether customer has tech support (Yes, No, No internet service) | Service feature impact                                      |\n",
    "| StreamingTV        | Whether customer streams TV (Yes, No, No internet service) | Service feature impact                                      |\n",
    "| StreamingMovies    | Whether customer streams movies (Yes, No, No internet service) | Service feature impact                                      |\n",
    "| Contract           | Contract type (Month-to-month, One year, Two year) | Contract length impact on churn                             |\n",
    "| PaperlessBilling   | Whether customer uses paperless billing (Yes, No) | Billing preference impact                                   |\n",
    "| PaymentMethod      | Payment method used                               | Billing method impact                                       |\n",
    "| MonthlyCharges     | Monthly charges                                  | Financial factor influencing churn                          |\n",
    "| TotalCharges       | Total charges to date                            | Financial factor influencing churn                          |\n",
    "| Churn              | Whether customer churned (Yes, No)              | Target variable                                            |"
   ]
  },
  {
   "cell_type": "markdown",
   "metadata": {},
   "source": [
    "### **2.3 Statistics Summary**"
   ]
  },
  {
   "cell_type": "markdown",
   "metadata": {
    "vscode": {
     "languageId": "plaintext"
    }
   },
   "source": [
    "- Tenure ranges from 0 to 72 months.\n",
    "- MonthlyCharges vary widely, indicating different service usage.\n",
    "- Churn rate can be calculated from the 'Churn' column (proportion of 'Yes')."
   ]
  },
  {
   "cell_type": "markdown",
   "metadata": {},
   "source": [
    "## **Section 3. Data Cleaning**"
   ]
  },
  {
   "cell_type": "markdown",
   "metadata": {},
   "source": [
    "### **3.1 Missing Values**"
   ]
  },
  {
   "cell_type": "markdown",
   "metadata": {
    "vscode": {
     "languageId": "plaintext"
    }
   },
   "source": [
    "- Some missing values in TotalCharges (noted as blank in the dataset).\n",
    "- Handle missing values by imputation or removal."
   ]
  },
  {
   "cell_type": "markdown",
   "metadata": {},
   "source": [
    "### **3.2 Duplicated Values**"
   ]
  },
  {
   "cell_type": "markdown",
   "metadata": {
    "vscode": {
     "languageId": "plaintext"
    }
   },
   "source": [
    "- Check for duplicated customerID or rows; no explicit duplicates noted."
   ]
  },
  {
   "cell_type": "markdown",
   "metadata": {},
   "source": [
    "### **3.3 Identify Spelling Errors**"
   ]
  },
  {
   "cell_type": "markdown",
   "metadata": {
    "vscode": {
     "languageId": "plaintext"
    }
   },
   "source": [
    "Categorical variables such as PaymentMethod, InternetService appear consistent; no spelling errors noted."
   ]
  },
  {
   "cell_type": "markdown",
   "metadata": {},
   "source": [
    "### **3.4 Identify Anomaly Values**\n",
    "- Numerical distributions for MonthlyCharges and TotalCharges to be checked for outliers.\n",
    "- Cardinality checks on categorical variables to understand unique values."
   ]
  },
  {
   "cell_type": "markdown",
   "metadata": {},
   "source": [
    "## **Section 4. Data Generation**"
   ]
  },
  {
   "cell_type": "markdown",
   "metadata": {},
   "source": [
    "**4.1 Constructing `Seen` and `Unseen` Data**"
   ]
  },
  {
   "cell_type": "markdown",
   "metadata": {},
   "source": [
    "**4.2 Constructing `Training` and `Testing` Data (from `Seen` Dataset)**"
   ]
  },
  {
   "cell_type": "markdown",
   "metadata": {},
   "source": [
    "## **Section 5. Exploratory Data Analysis (EDA)**"
   ]
  },
  {
   "cell_type": "markdown",
   "metadata": {},
   "source": [
    "**5.1 Analysis 1**"
   ]
  },
  {
   "cell_type": "markdown",
   "metadata": {},
   "source": [
    "**5.2 Analysis 2**"
   ]
  },
  {
   "cell_type": "markdown",
   "metadata": {},
   "source": [
    "## **Section 6. Data Preparation**"
   ]
  },
  {
   "cell_type": "markdown",
   "metadata": {},
   "source": [
    "**6.1 Initialization**\n",
    "- Initialization function\n",
    "- Define Feature and Target"
   ]
  },
  {
   "cell_type": "markdown",
   "metadata": {},
   "source": [
    "**6.2 Data Transformation (Feature Engineering)**"
   ]
  },
  {
   "cell_type": "markdown",
   "metadata": {},
   "source": [
    "**6.3 Overview**"
   ]
  },
  {
   "cell_type": "markdown",
   "metadata": {},
   "source": [
    "## **Section 7. Model Development**"
   ]
  },
  {
   "cell_type": "markdown",
   "metadata": {},
   "source": [
    "**7.1 Initialization**\n",
    "- Initialization Function\n",
    "- Create Custome Metrics\n",
    "- Create a workflow of the experiment"
   ]
  },
  {
   "cell_type": "markdown",
   "metadata": {
    "vscode": {
     "languageId": "plaintext"
    }
   },
   "source": [
    "**7.2 Developing the Model Pipeline**"
   ]
  },
  {
   "cell_type": "markdown",
   "metadata": {},
   "source": [
    "**7.3 Model Benchmarking (Comparing model base performance)**"
   ]
  },
  {
   "cell_type": "markdown",
   "metadata": {},
   "source": [
    "**7.4 Tune Model**"
   ]
  },
  {
   "cell_type": "markdown",
   "metadata": {},
   "source": [
    "**7.5 Analyze Model**\n",
    "\n",
    "- Evaluate model on data testing\n",
    "- Residual Analysis\n",
    "- Learning Curve Inspection"
   ]
  },
  {
   "cell_type": "markdown",
   "metadata": {},
   "source": [
    "**7.6 Model Calibration (Classification Only)**"
   ]
  },
  {
   "cell_type": "markdown",
   "metadata": {},
   "source": [
    "**7.6 Model Explanation and Interpretation**\n",
    "- Feature Importance (Tree Based Model) / Coefficient Regression (Regression Based Model)\n",
    "- SHAP Value identification\n",
    "- Counter Factual Analysis"
   ]
  },
  {
   "cell_type": "markdown",
   "metadata": {},
   "source": [
    "## **Section 8. Model Deployment**"
   ]
  },
  {
   "cell_type": "markdown",
   "metadata": {},
   "source": [
    "## **Section 9. Model Implementation**"
   ]
  },
  {
   "cell_type": "markdown",
   "metadata": {},
   "source": [
    "**9.1 How to implement the model ?**\n"
   ]
  },
  {
   "cell_type": "markdown",
   "metadata": {},
   "source": [
    "**9.2 What are the limitations of the model ?**"
   ]
  },
  {
   "cell_type": "markdown",
   "metadata": {},
   "source": [
    "**9.3 Business Calculation (Simulation using unseen data)**"
   ]
  },
  {
   "cell_type": "markdown",
   "metadata": {},
   "source": [
    "## **Section 10. Conclusion and Recommendation**"
   ]
  },
  {
   "cell_type": "markdown",
   "metadata": {},
   "source": [
    "**10.1 Conclusion**\n",
    "- Conclusion (Model)\n",
    "- Conclusion (Business)"
   ]
  },
  {
   "cell_type": "markdown",
   "metadata": {},
   "source": [
    "**10.2 Recommendation**\n",
    "- Recommendation (Model)\n",
    "- Recommendation (Business)"
   ]
  }
 ],
 "metadata": {
  "language_info": {
   "name": "python"
  }
 },
 "nbformat": 4,
 "nbformat_minor": 2
}
